{
 "cells": [
  {
   "cell_type": "code",
   "execution_count": 3,
   "metadata": {},
   "outputs": [
    {
     "name": "stdout",
     "output_type": "stream",
     "text": [
      "Processing index 0 for gesture 'htmeatingapple'.\n",
      "\tThere are 21 recordings of the htmeatingapple gesture.\n",
      "Processing index 1 for gesture 'htmeatingsweets'.\n",
      "\tThere are 20 recordings of the htmeatingsweets gesture.\n",
      "Processing index 2 for gesture 'htmforktomouth1movement'.\n",
      "\tThere are 20 recordings of the htmforktomouth1movement gesture.\n",
      "Processing index 3 for gesture 'htmspoontomouth'.\n",
      "\tThere are 20 recordings of the htmspoontomouth gesture.\n",
      "Processing index 4 for gesture 'nonhtmheadscratch1movement'.\n",
      "\tThere are 22 recordings of the nonhtmheadscratch1movement gesture.\n",
      "Processing index 5 for gesture 'nonhtmphone'.\n",
      "\tThere are 20 recordings of the nonhtmphone gesture.\n",
      "Processing index 6 for gesture 'nonhtmreaching1movement'.\n",
      "\tThere are 20 recordings of the nonhtmreaching1movement gesture.\n"
     ]
    },
    {
     "ename": "TypeError",
     "evalue": "can only concatenate str (not \"int\") to str",
     "output_type": "error",
     "traceback": [
      "\u001b[1;31m---------------------------------------------------------------------------\u001b[0m",
      "\u001b[1;31mTypeError\u001b[0m                                 Traceback (most recent call last)",
      "\u001b[1;32mc:\\Users\\ronan\\OneDrive - Ulster University\\Documents\\Project\\Final datasets\\Untitled-1.ipynb Cell 1\u001b[0m in \u001b[0;36m<module>\u001b[1;34m\u001b[0m\n\u001b[0;32m     <a href='vscode-notebook-cell:/c%3A/Users/ronan/OneDrive%20-%20Ulster%20University/Documents/Project/Final%20datasets/Untitled-1.ipynb#W0sZmlsZQ%3D%3D?line=44'>45</a>\u001b[0m \u001b[39mfor\u001b[39;00m j \u001b[39min\u001b[39;00m \u001b[39mrange\u001b[39m(SAMPLES_PER_GESTURE):\n\u001b[0;32m     <a href='vscode-notebook-cell:/c%3A/Users/ronan/OneDrive%20-%20Ulster%20University/Documents/Project/Final%20datasets/Untitled-1.ipynb#W0sZmlsZQ%3D%3D?line=45'>46</a>\u001b[0m   index \u001b[39m=\u001b[39m i \u001b[39m*\u001b[39m SAMPLES_PER_GESTURE \u001b[39m+\u001b[39m j\n\u001b[0;32m     <a href='vscode-notebook-cell:/c%3A/Users/ronan/OneDrive%20-%20Ulster%20University/Documents/Project/Final%20datasets/Untitled-1.ipynb#W0sZmlsZQ%3D%3D?line=47'>48</a>\u001b[0m   tensor \u001b[39m+\u001b[39m\u001b[39m=\u001b[39m [\n\u001b[1;32m---> <a href='vscode-notebook-cell:/c%3A/Users/ronan/OneDrive%20-%20Ulster%20University/Documents/Project/Final%20datasets/Untitled-1.ipynb#W0sZmlsZQ%3D%3D?line=48'>49</a>\u001b[0m       (df[\u001b[39m'\u001b[39;49m\u001b[39maX\u001b[39;49m\u001b[39m'\u001b[39;49m][index] \u001b[39m+\u001b[39;49m \u001b[39m4\u001b[39;49m) \u001b[39m/\u001b[39m \u001b[39m8\u001b[39m,\n\u001b[0;32m     <a href='vscode-notebook-cell:/c%3A/Users/ronan/OneDrive%20-%20Ulster%20University/Documents/Project/Final%20datasets/Untitled-1.ipynb#W0sZmlsZQ%3D%3D?line=49'>50</a>\u001b[0m       (df[\u001b[39m'\u001b[39m\u001b[39maY\u001b[39m\u001b[39m'\u001b[39m][index] \u001b[39m+\u001b[39m \u001b[39m4\u001b[39m) \u001b[39m/\u001b[39m \u001b[39m8\u001b[39m,\n\u001b[0;32m     <a href='vscode-notebook-cell:/c%3A/Users/ronan/OneDrive%20-%20Ulster%20University/Documents/Project/Final%20datasets/Untitled-1.ipynb#W0sZmlsZQ%3D%3D?line=50'>51</a>\u001b[0m       (df[\u001b[39m'\u001b[39m\u001b[39maZ\u001b[39m\u001b[39m'\u001b[39m][index] \u001b[39m+\u001b[39m \u001b[39m4\u001b[39m) \u001b[39m/\u001b[39m \u001b[39m8\u001b[39m,\n\u001b[0;32m     <a href='vscode-notebook-cell:/c%3A/Users/ronan/OneDrive%20-%20Ulster%20University/Documents/Project/Final%20datasets/Untitled-1.ipynb#W0sZmlsZQ%3D%3D?line=51'>52</a>\u001b[0m       (df[\u001b[39m'\u001b[39m\u001b[39mgX\u001b[39m\u001b[39m'\u001b[39m][index] \u001b[39m+\u001b[39m \u001b[39m2000\u001b[39m) \u001b[39m/\u001b[39m \u001b[39m4000\u001b[39m,\n\u001b[0;32m     <a href='vscode-notebook-cell:/c%3A/Users/ronan/OneDrive%20-%20Ulster%20University/Documents/Project/Final%20datasets/Untitled-1.ipynb#W0sZmlsZQ%3D%3D?line=52'>53</a>\u001b[0m       (df[\u001b[39m'\u001b[39m\u001b[39mgY\u001b[39m\u001b[39m'\u001b[39m][index] \u001b[39m+\u001b[39m \u001b[39m2000\u001b[39m) \u001b[39m/\u001b[39m \u001b[39m4000\u001b[39m,\n\u001b[0;32m     <a href='vscode-notebook-cell:/c%3A/Users/ronan/OneDrive%20-%20Ulster%20University/Documents/Project/Final%20datasets/Untitled-1.ipynb#W0sZmlsZQ%3D%3D?line=53'>54</a>\u001b[0m       (df[\u001b[39m'\u001b[39m\u001b[39mgZ\u001b[39m\u001b[39m'\u001b[39m][index] \u001b[39m+\u001b[39m \u001b[39m2000\u001b[39m) \u001b[39m/\u001b[39m \u001b[39m4000\u001b[39m\n\u001b[0;32m     <a href='vscode-notebook-cell:/c%3A/Users/ronan/OneDrive%20-%20Ulster%20University/Documents/Project/Final%20datasets/Untitled-1.ipynb#W0sZmlsZQ%3D%3D?line=54'>55</a>\u001b[0m   ]\n\u001b[0;32m     <a href='vscode-notebook-cell:/c%3A/Users/ronan/OneDrive%20-%20Ulster%20University/Documents/Project/Final%20datasets/Untitled-1.ipynb#W0sZmlsZQ%3D%3D?line=56'>57</a>\u001b[0m inputs\u001b[39m.\u001b[39mappend(tensor)\n\u001b[0;32m     <a href='vscode-notebook-cell:/c%3A/Users/ronan/OneDrive%20-%20Ulster%20University/Documents/Project/Final%20datasets/Untitled-1.ipynb#W0sZmlsZQ%3D%3D?line=57'>58</a>\u001b[0m outputs\u001b[39m.\u001b[39mappend(output)\n",
      "\u001b[1;31mTypeError\u001b[0m: can only concatenate str (not \"int\") to str"
     ]
    }
   ],
   "source": [
    "import pandas as pd\n",
    "\n",
    "import numpy as np\n",
    "SEED = 1337\n",
    "np.random.seed(SEED)\n",
    "tf.random.set_seed(SEED)\n",
    "GESTURES = [\n",
    "\n",
    "    #\"htmdrinking\",\n",
    "    \"htmeatingapple\",\n",
    "    \"htmeatingsweets\",\n",
    "    \"htmforktomouth1movement\",\n",
    "    \"htmspoontomouth\",\n",
    "    \"nonhtmheadscratch1movement\",\n",
    "    \"nonhtmphone\",\n",
    "    \"nonhtmreaching1movement\",\n",
    "    \"nonhtmtyping\",\n",
    "    \"nonhtmwriting1movement\",\n",
    "\n",
    "\n",
    "\n",
    "]\n",
    "\n",
    "SAMPLES_PER_GESTURE = 119\n",
    "NUM_GESTURES = len(GESTURES)\n",
    "\n",
    "ONE_HOT_ENCODED_GESTURES = np.eye(NUM_GESTURES)\n",
    "inputs = []\n",
    "outputs = []\n",
    "\n",
    "for gesture_index in range(NUM_GESTURES):\n",
    "  gesture = GESTURES[gesture_index]\n",
    "  print(f\"Processing index {gesture_index} for gesture '{gesture}'.\")\n",
    "  \n",
    "  output = ONE_HOT_ENCODED_GESTURES[gesture_index]\n",
    "  \n",
    "  df = pd.read_csv(gesture + \".csv\", low_memory=False)\n",
    "  \n",
    "  num_recordings = int(df.shape[0] / SAMPLES_PER_GESTURE)\n",
    "  \n",
    "  print(f\"\\tThere are {num_recordings} recordings of the {gesture} gesture.\")\n",
    "  \n",
    "  for i in range(num_recordings):\n",
    "    tensor = []\n",
    "    for j in range(SAMPLES_PER_GESTURE):\n",
    "      index = i * SAMPLES_PER_GESTURE + j\n",
    "\n",
    "      tensor += [\n",
    "          (df['aX'][index] + 4) / 8,\n",
    "          (df['aY'][index] + 4) / 8,\n",
    "          (df['aZ'][index] + 4) / 8,\n",
    "          (df['gX'][index] + 2000) / 4000,\n",
    "          (df['gY'][index] + 2000) / 4000,\n",
    "          (df['gZ'][index] + 2000) / 4000\n",
    "      ]\n",
    "\n",
    "    inputs.append(tensor)\n",
    "    outputs.append(output)\n",
    "\n",
    "inputs = np.array(inputs)\n",
    "outputs = np.array(outputs)\n",
    "\n"
   ]
  },
  {
   "cell_type": "code",
   "execution_count": 2,
   "metadata": {},
   "outputs": [
    {
     "name": "stderr",
     "output_type": "stream",
     "text": [
      "'apt-get' is not recognized as an internal or external command,\n",
      "operable program or batch file.\n"
     ]
    },
    {
     "name": "stdout",
     "output_type": "stream",
     "text": [
      "2.8.0\n"
     ]
    }
   ],
   "source": [
    "# Setup environment\n",
    "!apt-get -qq install xxd # I am using Linux, for windows you can use gvim82\n",
    "# !pip3 install micromlgen\n",
    "# !pip3 install pandas numpy matplotlib\n",
    "# !pip3 install --upgrade tensorflow==2.3.0rc1\n",
    "import numpy\n",
    "numpy.version.version\n",
    "import tensorflow as tf\n",
    "print(tf.__version__)"
   ]
  }
 ],
 "metadata": {
  "kernelspec": {
   "display_name": "Python 3.10.2 64-bit",
   "language": "python",
   "name": "python3"
  },
  "language_info": {
   "codemirror_mode": {
    "name": "ipython",
    "version": 3
   },
   "file_extension": ".py",
   "mimetype": "text/x-python",
   "name": "python",
   "nbconvert_exporter": "python",
   "pygments_lexer": "ipython3",
   "version": "3.10.2"
  },
  "orig_nbformat": 4,
  "vscode": {
   "interpreter": {
    "hash": "71c0c5a7a606d97d6addb07ded6b998ef060d84025d79834e2d6c786aa5b3fe6"
   }
  }
 },
 "nbformat": 4,
 "nbformat_minor": 2
}
